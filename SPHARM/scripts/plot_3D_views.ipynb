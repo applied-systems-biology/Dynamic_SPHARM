{
 "cells": [
  {
   "cell_type": "code",
   "execution_count": 1,
   "metadata": {},
   "outputs": [],
   "source": [
    "from __future__ import division\n",
    "\n",
    "import mkl\n",
    "mkl.set_num_threads(1)\n",
    "\n",
    "import numpy as np\n",
    "import sys\n",
    "import os\n",
    "import ipyvolume.pylab as p3\n",
    "from ipyvolume import style\n",
    "from skimage import io\n",
    "from helper_lib import filelib\n",
    "\n"
   ]
  },
  {
   "cell_type": "code",
   "execution_count": 2,
   "metadata": {},
   "outputs": [
    {
     "name": "stdout",
     "output_type": "stream",
     "text": [
      "['2019-04-08_15:54:19_SPHAM_set1_69285800_6_6_0.3_0.6/cells/cell0_t60000.csv.tif', '2019-04-09_09:52:53_SPHAM_set2_23072213_6_2_0.3_0/cells/cell0_t60000.csv.tif', '2019-04-23_09:31:13_SPHAM_set1_95093023_3_3_0.3_0.45/cells/cell0_t60000.csv.tif']\n"
     ]
    }
   ],
   "source": [
    "path = '../../../Data/Synthetic_cells_set1/output/'\n",
    "\n",
    "files = filelib.list_subfolders(path + 'stacks/')\n",
    "print(files)\n"
   ]
  },
  {
   "cell_type": "code",
   "execution_count": 3,
   "metadata": {},
   "outputs": [
    {
     "name": "stdout",
     "output_type": "stream",
     "text": [
      "2019-04-08_15:54:19_SPHAM_set1_69285800_6_6_0.3_0.6/cells/cell0_t60000.csv.tif\n"
     ]
    },
    {
     "data": {
      "application/vnd.jupyter.widget-view+json": {
       "model_id": "1a0da53ca70648cda6a038a039f59ec8",
       "version_major": 2,
       "version_minor": 0
      },
      "text/plain": [
       "VBox(children=(Figure(camera=PerspectiveCamera(fov=46.0, position=(0.0, 0.0, 2.0), quaternion=(0.0, 0.0, 0.0, …"
      ]
     },
     "metadata": {},
     "output_type": "display_data"
    }
   ],
   "source": [
    "fn = files[0]\n",
    "print(fn)\n",
    "img = io.imread(path + 'stacks/' + fn)\n",
    "filelib.make_folders([os.path.dirname(path + '3d_views/' + fn.replace('/', '_'))])\n",
    "maxproj = np.max(img, axis=0)\n",
    "io.imsave(path + '3d_views/' + fn.replace('/', '_')[:-4] + '.png', maxproj.astype(np.uint8))\n",
    "p3.clear()\n",
    "style.use('minimal')\n",
    "p3.plot_isosurface(img, level=120)\n",
    "p3.show()\n"
   ]
  },
  {
   "cell_type": "code",
   "execution_count": 4,
   "metadata": {},
   "outputs": [
    {
     "name": "stdout",
     "output_type": "stream",
     "text": [
      "2019-04-09_09:52:53_SPHAM_set2_23072213_6_2_0.3_0/cells/cell0_t60000.csv.tif\n"
     ]
    },
    {
     "data": {
      "application/vnd.jupyter.widget-view+json": {
       "model_id": "0cc770d113c9491e9b84927c27584ee3",
       "version_major": 2,
       "version_minor": 0
      },
      "text/plain": [
       "VBox(children=(Figure(camera=PerspectiveCamera(fov=46.0, position=(0.0, 0.0, 2.0), quaternion=(0.0, 0.0, 0.0, …"
      ]
     },
     "metadata": {},
     "output_type": "display_data"
    }
   ],
   "source": [
    "fn = files[1]\n",
    "print(fn)\n",
    "img = io.imread(path + 'stacks/' + fn)\n",
    "filelib.make_folders([os.path.dirname(path + '3d_views/' + fn.replace('/', '_'))])\n",
    "maxproj = np.max(img, axis=0)\n",
    "io.imsave(path + '3d_views/' + fn.replace('/', '_')[:-4] + '.png', maxproj.astype(np.uint8))\n",
    "p3.clear()\n",
    "style.use('minimal')\n",
    "p3.plot_isosurface(img, level=120)\n",
    "p3.show()"
   ]
  },
  {
   "cell_type": "code",
   "execution_count": 5,
   "metadata": {},
   "outputs": [
    {
     "name": "stdout",
     "output_type": "stream",
     "text": [
      "2019-04-23_09:31:13_SPHAM_set1_95093023_3_3_0.3_0.45/cells/cell0_t60000.csv.tif\n"
     ]
    },
    {
     "data": {
      "application/vnd.jupyter.widget-view+json": {
       "model_id": "c175607e7d324ebaaacdbff9d1645ecf",
       "version_major": 2,
       "version_minor": 0
      },
      "text/plain": [
       "VBox(children=(Figure(camera=PerspectiveCamera(fov=46.0, position=(0.0, 0.0, 2.0), quaternion=(0.0, 0.0, 0.0, …"
      ]
     },
     "metadata": {},
     "output_type": "display_data"
    }
   ],
   "source": [
    "fn = files[2]\n",
    "print(fn)\n",
    "img = io.imread(path + 'stacks/' + fn)\n",
    "filelib.make_folders([os.path.dirname(path + '3d_views/' + fn.replace('/', '_'))])\n",
    "maxproj = np.max(img, axis=0)\n",
    "io.imsave(path + '3d_views/' + fn.replace('/', '_')[:-4] + '.png', maxproj.astype(np.uint8))\n",
    "p3.clear()\n",
    "style.use('minimal')\n",
    "p3.plot_isosurface(img, level=120)\n",
    "p3.show()"
   ]
  },
  {
   "cell_type": "code",
   "execution_count": 6,
   "metadata": {},
   "outputs": [
    {
     "name": "stdout",
     "output_type": "stream",
     "text": [
      "['2019-06-04_22:25:45_SPHAM_set5b_22294645_6_3_0.3_0.3/cells/cell0_t60000.csv.tif', '2019-06-04_22:49:24_SPHAM_set6b_15244164_6_3_0.3_0.6/cells/cell0_t60000.csv.tif', '2019-06-04_09:47:13_SPHAM_set4b_36435036_6_3_0.3_0/cells/cell0_t60000.csv.tif']\n"
     ]
    }
   ],
   "source": [
    "path = '../../../Data/Synthetic_cells_set2/output/'\n",
    "\n",
    "files = filelib.list_subfolders(path + 'stacks/')\n",
    "print(files)"
   ]
  },
  {
   "cell_type": "code",
   "execution_count": 7,
   "metadata": {},
   "outputs": [
    {
     "name": "stdout",
     "output_type": "stream",
     "text": [
      "2019-06-04_22:25:45_SPHAM_set5b_22294645_6_3_0.3_0.3/cells/cell0_t60000.csv.tif\n"
     ]
    },
    {
     "data": {
      "application/vnd.jupyter.widget-view+json": {
       "model_id": "a70e2642d5644aa28661b6f9be372c95",
       "version_major": 2,
       "version_minor": 0
      },
      "text/plain": [
       "VBox(children=(Figure(camera=PerspectiveCamera(fov=46.0, position=(0.0, 0.0, 2.0), quaternion=(0.0, 0.0, 0.0, …"
      ]
     },
     "metadata": {},
     "output_type": "display_data"
    }
   ],
   "source": [
    "fn = files[0]\n",
    "print(fn)\n",
    "img = io.imread(path + 'stacks/' + fn)\n",
    "filelib.make_folders([os.path.dirname(path + '3d_views/' + fn.replace('/', '_'))])\n",
    "maxproj = np.max(img, axis=0)\n",
    "io.imsave(path + '3d_views/' + fn.replace('/', '_')[:-4] + '.png', maxproj.astype(np.uint8))\n",
    "p3.clear()\n",
    "style.use('minimal')\n",
    "p3.plot_isosurface(img, level=120)\n",
    "p3.show()"
   ]
  },
  {
   "cell_type": "code",
   "execution_count": 8,
   "metadata": {},
   "outputs": [
    {
     "name": "stdout",
     "output_type": "stream",
     "text": [
      "2019-06-04_22:49:24_SPHAM_set6b_15244164_6_3_0.3_0.6/cells/cell0_t60000.csv.tif\n"
     ]
    },
    {
     "data": {
      "application/vnd.jupyter.widget-view+json": {
       "model_id": "4f802080b61c4b0990f2b373f3426b2e",
       "version_major": 2,
       "version_minor": 0
      },
      "text/plain": [
       "VBox(children=(Figure(camera=PerspectiveCamera(fov=46.0, position=(0.0, 0.0, 2.0), quaternion=(0.0, 0.0, 0.0, …"
      ]
     },
     "metadata": {},
     "output_type": "display_data"
    }
   ],
   "source": [
    "fn = files[1]\n",
    "print(fn)\n",
    "img = io.imread(path + 'stacks/' + fn)\n",
    "filelib.make_folders([os.path.dirname(path + '3d_views/' + fn.replace('/', '_'))])\n",
    "maxproj = np.max(img, axis=0)\n",
    "io.imsave(path + '3d_views/' + fn.replace('/', '_')[:-4] + '.png', maxproj.astype(np.uint8))\n",
    "p3.clear()\n",
    "style.use('minimal')\n",
    "p3.plot_isosurface(img, level=120)\n",
    "p3.show()"
   ]
  },
  {
   "cell_type": "code",
   "execution_count": 9,
   "metadata": {},
   "outputs": [
    {
     "name": "stdout",
     "output_type": "stream",
     "text": [
      "2019-06-04_09:47:13_SPHAM_set4b_36435036_6_3_0.3_0/cells/cell0_t60000.csv.tif\n"
     ]
    },
    {
     "data": {
      "application/vnd.jupyter.widget-view+json": {
       "model_id": "7d0c9ae3497f40f48b2c3f1e8f5caab2",
       "version_major": 2,
       "version_minor": 0
      },
      "text/plain": [
       "VBox(children=(Figure(camera=PerspectiveCamera(fov=46.0, position=(0.0, 0.0, 2.0), quaternion=(0.0, 0.0, 0.0, …"
      ]
     },
     "metadata": {},
     "output_type": "display_data"
    }
   ],
   "source": [
    "fn = files[2]\n",
    "print(fn)\n",
    "img = io.imread(path + 'stacks/' + fn)\n",
    "filelib.make_folders([os.path.dirname(path + '3d_views/' + fn.replace('/', '_'))])\n",
    "maxproj = np.max(img, axis=0)\n",
    "io.imsave(path + '3d_views/' + fn.replace('/', '_')[:-4] + '.png', maxproj.astype(np.uint8))\n",
    "p3.clear()\n",
    "style.use('minimal')\n",
    "p3.plot_isosurface(img, level=120)\n",
    "p3.show()"
   ]
  },
  {
   "cell_type": "code",
   "execution_count": null,
   "metadata": {},
   "outputs": [],
   "source": []
  }
 ],
 "metadata": {
  "kernelspec": {
   "display_name": "Python 3",
   "language": "python",
   "name": "python3"
  },
  "language_info": {
   "codemirror_mode": {
    "name": "ipython",
    "version": 3
   },
   "file_extension": ".py",
   "mimetype": "text/x-python",
   "name": "python",
   "nbconvert_exporter": "python",
   "pygments_lexer": "ipython3",
   "version": "3.7.3"
  }
 },
 "nbformat": 4,
 "nbformat_minor": 2
}
